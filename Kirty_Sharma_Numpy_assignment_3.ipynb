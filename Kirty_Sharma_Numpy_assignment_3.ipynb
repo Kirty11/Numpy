{
  "nbformat": 4,
  "nbformat_minor": 0,
  "metadata": {
    "colab": {
      "name": "Kirty Sharma - Numpy-assignment-3.ipynb",
      "provenance": [],
      "collapsed_sections": []
    },
    "kernelspec": {
      "name": "python3",
      "display_name": "Python 3"
    }
  },
  "cells": [
    {
      "cell_type": "code",
      "metadata": {
        "id": "31UwBw0bR-7I",
        "colab_type": "code",
        "colab": {}
      },
      "source": [
        "import numpy as np"
      ],
      "execution_count": 0,
      "outputs": []
    },
    {
      "cell_type": "code",
      "metadata": {
        "id": "85it8RniSD1i",
        "colab_type": "code",
        "outputId": "6481d6c6-6a3c-437d-ea20-7f2302e02abf",
        "colab": {
          "base_uri": "https://localhost:8080/",
          "height": 153
        }
      },
      "source": [
        "# Setup for questions 1 and 2\n",
        "arr1=np.arange(40).reshape(8,5)\n",
        "arr1"
      ],
      "execution_count": 0,
      "outputs": [
        {
          "output_type": "execute_result",
          "data": {
            "text/plain": [
              "array([[ 0,  1,  2,  3,  4],\n",
              "       [ 5,  6,  7,  8,  9],\n",
              "       [10, 11, 12, 13, 14],\n",
              "       [15, 16, 17, 18, 19],\n",
              "       [20, 21, 22, 23, 24],\n",
              "       [25, 26, 27, 28, 29],\n",
              "       [30, 31, 32, 33, 34],\n",
              "       [35, 36, 37, 38, 39]])"
            ]
          },
          "metadata": {
            "tags": []
          },
          "execution_count": 2
        }
      ]
    },
    {
      "cell_type": "code",
      "metadata": {
        "id": "0Nz1-qSdSOQ_",
        "colab_type": "code",
        "outputId": "36381562-aa17-4cb9-fc4d-088370f4ca42",
        "colab": {
          "base_uri": "https://localhost:8080/",
          "height": 153
        }
      },
      "source": [
        "# Q1. From arr1 you have to fetch out every alternate column starting from col1\n",
        "arr1[:,0:5:2] #fetching alternate column starting from Col1\n",
        "\n",
        "\n"
      ],
      "execution_count": 0,
      "outputs": [
        {
          "output_type": "execute_result",
          "data": {
            "text/plain": [
              "array([[ 0,  2,  4],\n",
              "       [ 5,  7,  9],\n",
              "       [10, 12, 14],\n",
              "       [15, 17, 19],\n",
              "       [20, 22, 24],\n",
              "       [25, 27, 29],\n",
              "       [30, 32, 34],\n",
              "       [35, 37, 39]])"
            ]
          },
          "metadata": {
            "tags": []
          },
          "execution_count": 19
        }
      ]
    },
    {
      "cell_type": "code",
      "metadata": {
        "id": "rwmohc2SScHo",
        "colab_type": "code",
        "outputId": "c49a3573-9b88-4182-fac0-469b7ebba092",
        "colab": {
          "base_uri": "https://localhost:8080/",
          "height": 68
        }
      },
      "source": [
        "# Q2. From arr1 fetch an array which would contain {0,2,4} {15,17,19} and {30,32,34} \n",
        "#arr1[:,[i for i in range(0,len(arr1[0]),2)]][[i for i in range(0,8,3)],:]#fetching the desired values\n",
        "#OR\n",
        "arr1[:,0:5:2][0:8:3,:]"
      ],
      "execution_count": 0,
      "outputs": [
        {
          "output_type": "execute_result",
          "data": {
            "text/plain": [
              "array([[ 0,  2,  4],\n",
              "       [15, 17, 19],\n",
              "       [30, 32, 34]])"
            ]
          },
          "metadata": {
            "tags": []
          },
          "execution_count": 18
        }
      ]
    },
    {
      "cell_type": "code",
      "metadata": {
        "id": "r1gU_dQ4SsH7",
        "colab_type": "code",
        "outputId": "38f2e71a-6a5b-49f9-b7e9-b7dd1a2d1a9e",
        "colab": {
          "base_uri": "https://localhost:8080/",
          "height": 51
        }
      },
      "source": [
        "# Setup for question\n",
        "\n",
        "# Generating a random numpy array of intergers ranging between 1 and 100\n",
        "\n",
        "arr2=np.random.randint(low=1, high=10000, size=10).reshape(2,5)\n",
        "arr2"
      ],
      "execution_count": 0,
      "outputs": [
        {
          "output_type": "execute_result",
          "data": {
            "text/plain": [
              "array([[4278, 7093, 4528, 8121, 6152],\n",
              "       [2374, 8079, 7292, 4438, 8928]])"
            ]
          },
          "metadata": {
            "tags": []
          },
          "execution_count": 5
        }
      ]
    },
    {
      "cell_type": "markdown",
      "metadata": {
        "id": "VL_SIR70U2So",
        "colab_type": "text"
      },
      "source": [
        " **Normalization** rescales the values into a range of [0,1]. This might be useful in some cases where all parameters need to have the same positive scale. You have to do this a lot in machine learning for eg you are working with 2 cols, one is total runs scored by a batsman(in the scale of 1000s), and the second is number of matches played by him(in the scale of 10s). The formula for normalization is given below\n",
        "\n",
        " Xchanged=(X−Xmin)/(Xmax−Xmin)"
      ]
    },
    {
      "cell_type": "code",
      "metadata": {
        "id": "TI_idHqkUz48",
        "colab_type": "code",
        "outputId": "958987e7-7198-48bf-d083-473bac792e89",
        "colab": {
          "base_uri": "https://localhost:8080/",
          "height": 51
        }
      },
      "source": [
        "# Q3. Write a code to normalize arr2.\n",
        "np.array([(arr2-arr2.min())/(arr2.max()-arr2.min())])"
      ],
      "execution_count": 0,
      "outputs": [
        {
          "output_type": "execute_result",
          "data": {
            "text/plain": [
              "array([[[0.29050961, 0.72001831, 0.32865426, 0.87686909, 0.57644187],\n",
              "        [0.        , 0.87046079, 0.75038145, 0.31492218, 1.        ]]])"
            ]
          },
          "metadata": {
            "tags": []
          },
          "execution_count": 6
        }
      ]
    },
    {
      "cell_type": "code",
      "metadata": {
        "id": "GXcTZro_VXd_",
        "colab_type": "code",
        "outputId": "d429b532-0d5e-4ac4-8f03-8a179878b117",
        "colab": {
          "base_uri": "https://localhost:8080/",
          "height": 34
        }
      },
      "source": [
        "np.percentile(arr1,25)"
      ],
      "execution_count": 0,
      "outputs": [
        {
          "output_type": "execute_result",
          "data": {
            "text/plain": [
              "9.75"
            ]
          },
          "metadata": {
            "tags": []
          },
          "execution_count": 7
        }
      ]
    },
    {
      "cell_type": "code",
      "metadata": {
        "id": "jzgUb2rxWTJ1",
        "colab_type": "code",
        "colab": {}
      },
      "source": [
        ""
      ],
      "execution_count": 0,
      "outputs": []
    },
    {
      "cell_type": "markdown",
      "metadata": {
        "id": "cAKDoNdmW473",
        "colab_type": "text"
      },
      "source": [
        "Missing values are a pain in the a**(sorry for language). But yes trust me."
      ]
    },
    {
      "cell_type": "code",
      "metadata": {
        "id": "SV9DLiXaWz9b",
        "colab_type": "code",
        "outputId": "ff22964e-2221-4298-ad5c-3365f44c83b0",
        "colab": {
          "base_uri": "https://localhost:8080/",
          "height": 153
        }
      },
      "source": [
        "# Q4. How would you check if your numpy array has some missing values?\n",
        "\n",
        "# Hint: Thoda research karo numpy me existing functions hai\n",
        "np.equal(arr1,None)\n",
        "np.isnan(arr1)#using equal() to check missing values"
      ],
      "execution_count": 0,
      "outputs": [
        {
          "output_type": "execute_result",
          "data": {
            "text/plain": [
              "array([[False, False, False, False, False],\n",
              "       [False, False, False, False, False],\n",
              "       [False, False, False, False, False],\n",
              "       [False, False, False, False, False],\n",
              "       [False, False, False, False, False],\n",
              "       [False, False, False, False, False],\n",
              "       [False, False, False, False, False],\n",
              "       [False, False, False, False, False]])"
            ]
          },
          "metadata": {
            "tags": []
          },
          "execution_count": 16
        }
      ]
    },
    {
      "cell_type": "code",
      "metadata": {
        "id": "WWo9EXndXLrP",
        "colab_type": "code",
        "colab": {}
      },
      "source": [
        "# Q5. Write a function which will accept 2 arguments.\n",
        "# First: A 1D numpy array arr\n",
        "# Second: An integer n {Please make sure n<=len(arr)}\n",
        "\n",
        "# Output: The output should be the nth largest item out of the array\n",
        "\n",
        "# Example1 : arr=(12,34,40,7,1,0) and n=3, the output should be 12\n",
        "# Example2 : arr=(12,34,40,7,1,0) and n=1, the output should be 40"
      ],
      "execution_count": 0,
      "outputs": []
    },
    {
      "cell_type": "code",
      "metadata": {
        "id": "aOeEUd1LYRIF",
        "colab_type": "code",
        "colab": {}
      },
      "source": [
        "def nlarge(arr,n):\n",
        "  if (n<=len(arr)):\n",
        "    arr.sort() #sorting array in ascending order\n",
        "    return arr[-n] #printing the desired largest no.\n",
        "  else:\n",
        "    print('Invalid input!')\n",
        "  \n",
        "  "
      ],
      "execution_count": 0,
      "outputs": []
    },
    {
      "cell_type": "code",
      "metadata": {
        "id": "sP3FJAb3s5Ss",
        "colab_type": "code",
        "colab": {}
      },
      "source": [
        ""
      ],
      "execution_count": 0,
      "outputs": []
    }
  ]
}