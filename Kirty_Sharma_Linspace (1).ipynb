{
  "nbformat": 4,
  "nbformat_minor": 0,
  "metadata": {
    "colab": {
      "name": "Kirty Sharma - Linspace.ipynb",
      "provenance": [],
      "collapsed_sections": []
    },
    "kernelspec": {
      "name": "python3",
      "display_name": "Python 3"
    }
  },
  "cells": [
    {
      "cell_type": "code",
      "metadata": {
        "id": "Ouka6B6XMvBY",
        "colab_type": "code",
        "colab": {}
      },
      "source": [
        "def linspace(l,u,n):\n",
        "   \n",
        "  \n",
        "    \n",
        "  if n<0 :\n",
        "    try:\n",
        "      raise ValueError(\"No. of samples must be positive\")\n",
        "    except ValueError:\n",
        "      raise\n",
        " \n",
        "  if l==u or l>u:\n",
        "    print(\"Enter correct values\")\n",
        "\n",
        "  else:\n",
        "    step=(u-l)/float(n-1)\n",
        "    return [l+i*step for i in range(n)]\n",
        " \n",
        "    \n",
        "    \n",
        "     \n",
        "\n",
        "\n",
        "\n"
      ],
      "execution_count": 0,
      "outputs": []
    },
    {
      "cell_type": "code",
      "metadata": {
        "id": "iIRxDf9dmsrF",
        "colab_type": "code",
        "outputId": "cab83deb-b8f2-45ce-cb9e-9b88a35865ea",
        "colab": {
          "base_uri": "https://localhost:8080/",
          "height": 34
        }
      },
      "source": [
        "linspace(1,10,5)"
      ],
      "execution_count": 0,
      "outputs": [
        {
          "output_type": "execute_result",
          "data": {
            "text/plain": [
              "[1.0, 3.25, 5.5, 7.75, 10.0]"
            ]
          },
          "metadata": {
            "tags": []
          },
          "execution_count": 9
        }
      ]
    },
    {
      "cell_type": "code",
      "metadata": {
        "id": "LWrhVskZmxDf",
        "colab_type": "code",
        "outputId": "df4e8c57-1b33-43d2-8d14-9deb144d33d1",
        "colab": {
          "base_uri": "https://localhost:8080/",
          "height": 34
        }
      },
      "source": [
        "linspace(1,1,5)"
      ],
      "execution_count": 0,
      "outputs": [
        {
          "output_type": "stream",
          "text": [
            "Enter correct values\n"
          ],
          "name": "stdout"
        }
      ]
    },
    {
      "cell_type": "code",
      "metadata": {
        "id": "8_MR_6E8m3c1",
        "colab_type": "code",
        "colab": {}
      },
      "source": [
        ""
      ],
      "execution_count": 0,
      "outputs": []
    }
  ]
}