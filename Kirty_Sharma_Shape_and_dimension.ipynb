{
  "nbformat": 4,
  "nbformat_minor": 0,
  "metadata": {
    "colab": {
      "name": "Kirty Sharma - Shape-and-dimension.ipynb",
      "provenance": [],
      "collapsed_sections": []
    },
    "kernelspec": {
      "name": "python3",
      "display_name": "Python 3"
    }
  },
  "cells": [
    {
      "cell_type": "markdown",
      "metadata": {
        "id": "KS3wCW3hFavq",
        "colab_type": "text"
      },
      "source": [
        "You have to write 2 functions after watching today's videos.\n",
        "\n",
        "1. The first function will accept a Numpy array and return it's shape.\n",
        "   Note:- You can't use the shape attribute\n",
        "   \n",
        "2. The second function will accept a Numpy array and return it's dimension.\n",
        "   Note:- You can't use the ndim attribute"
      ]
    },
    {
      "cell_type": "code",
      "metadata": {
        "id": "KNi0nhyHS410",
        "colab_type": "code",
        "colab": {}
      },
      "source": [
        "def myshape(arr,shape=()):#passing nd array and an empty tuple\n",
        "    try:\n",
        "      \n",
        "      if not isinstance(arr,np.ndarray):#base case for recursion\n",
        "        return shape\n",
        "      if isinstance(arr[0],np.ndarray):\n",
        "        length=len(arr[0])\n",
        "        if not all(len(i)==length for i in arr):#Exception Handling\n",
        "            raise ValueError(\"All lists should have same length\")\n",
        "        \n",
        "      shape=shape+(len(arr), )\n",
        "      shape=myshape(arr[0],shape)#recursive call\n",
        "    except IndexError:#for an empty array\n",
        "      shape=(0,)\n",
        "      return shape\n",
        "    \n",
        "    return shape\n",
        "\n",
        "def mydim(arr):\n",
        "    return len(myshape(arr))\n",
        "\n"
      ],
      "execution_count": 0,
      "outputs": []
    },
    {
      "cell_type": "code",
      "metadata": {
        "id": "guiUYNeF_NlG",
        "colab_type": "code",
        "colab": {}
      },
      "source": [
        ""
      ],
      "execution_count": 0,
      "outputs": []
    },
    {
      "cell_type": "code",
      "metadata": {
        "id": "wJ3z7bwuAkZQ",
        "colab_type": "code",
        "colab": {}
      },
      "source": [
        ""
      ],
      "execution_count": 0,
      "outputs": []
    },
    {
      "cell_type": "code",
      "metadata": {
        "id": "6kaUaQ6yKP5F",
        "colab_type": "code",
        "colab": {}
      },
      "source": [
        ""
      ],
      "execution_count": 0,
      "outputs": []
    },
    {
      "cell_type": "code",
      "metadata": {
        "id": "DTGSWUc9pNpL",
        "colab_type": "code",
        "colab": {}
      },
      "source": [
        ""
      ],
      "execution_count": 0,
      "outputs": []
    },
    {
      "cell_type": "code",
      "metadata": {
        "id": "fzOysajfpSby",
        "colab_type": "code",
        "colab": {}
      },
      "source": [
        ""
      ],
      "execution_count": 0,
      "outputs": []
    },
    {
      "cell_type": "code",
      "metadata": {
        "id": "hSUM4yzSfoBu",
        "colab_type": "code",
        "colab": {}
      },
      "source": [
        ""
      ],
      "execution_count": 0,
      "outputs": []
    },
    {
      "cell_type": "code",
      "metadata": {
        "id": "hqfpi1oRfrlT",
        "colab_type": "code",
        "colab": {}
      },
      "source": [
        ""
      ],
      "execution_count": 0,
      "outputs": []
    },
    {
      "cell_type": "code",
      "metadata": {
        "id": "fxyib_Fzfts1",
        "colab_type": "code",
        "colab": {}
      },
      "source": [
        ""
      ],
      "execution_count": 0,
      "outputs": []
    }
  ]
}