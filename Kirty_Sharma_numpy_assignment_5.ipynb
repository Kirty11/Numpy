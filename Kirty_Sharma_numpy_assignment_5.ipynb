{
  "nbformat": 4,
  "nbformat_minor": 0,
  "metadata": {
    "colab": {
      "name": "Kirty Sharma - numpy-assignment-5.ipynb",
      "provenance": [],
      "collapsed_sections": []
    },
    "kernelspec": {
      "name": "python3",
      "display_name": "Python 3"
    }
  },
  "cells": [
    {
      "cell_type": "markdown",
      "metadata": {
        "id": "HHEofVKhbKOJ",
        "colab_type": "text"
      },
      "source": [
        "Kids... Let me tell you a story, Once a statistician was lost in a jungle. It was pitch dark. Nothing could be seen around. The statistician was afraid but he kept moving. Suddenly, he saw a small house. He went there and knocked on the door. Someone opened the door. \n",
        "\n",
        "Guess what was the first question that came out of the statistician's mouth...\n",
        "\n",
        "Bhaiya, yahan kahin aas paas Normal Distribution milega?\n",
        "\n",
        "That's how important Normal distribution is in a Statistician's (Read Data Analyst) life. Whenever a statistician is lost in an analysis, his/her first response is to reach or find a normal distribution somewhere. \n",
        "\n",
        "![alt text](https://media2.giphy.com/media/maIEBUU5OmrMA/source.gif)\n",
        "\n",
        "Although, we are going to study Normal Distribution in future episodes:). Today I want you to get a feel of the Normal/Gaussian Distribution."
      ]
    },
    {
      "cell_type": "markdown",
      "metadata": {
        "id": "udWaNZcNehRo",
        "colab_type": "text"
      },
      "source": [
        "In a normal distribution, there are 2 things of utmost importance, Mean and the Standard Deviation. ([Read more about Normal Distribution here](https://en.wikipedia.org/wiki/Normal_distribution)).\n",
        "\n",
        "I want you to create a function which takes 2 inputs - the Mean and Standard Deviation and prints out the graph of the Normal Distribution (also known as PDF, you will find the formula in the wiki article). Assume x is given and calculate y using the pdf formula. The resultant graph would look something like this (any one of them):!\n",
        "\n",
        "![](https://upload.wikimedia.org/wikipedia/commons/thumb/7/74/Normal_Distribution_PDF.svg/340px-Normal_Distribution_PDF.svg.png)"
      ]
    },
    {
      "cell_type": "markdown",
      "metadata": {
        "id": "JXSsUhFxf8VC",
        "colab_type": "text"
      },
      "source": [
        "If you are successful in writing this function, that would be...\n",
        "\n",
        "Legend...\n",
        "\n",
        "Wait for it..."
      ]
    },
    {
      "cell_type": "code",
      "metadata": {
        "id": "fhPRbXGiXaoK",
        "colab_type": "code",
        "outputId": "0942f264-41d0-4ff4-ea2f-3f36f3de70d8",
        "colab": {
          "base_uri": "https://localhost:8080/",
          "height": 286
        }
      },
      "source": [
        "import numpy as np\n",
        "import matplotlib.pyplot as plt\n",
        "import math\n",
        "%matplotlib inline\n",
        "# Write function code here\n",
        "def plotter(meanValue,sdValue):\n",
        "  variance=sdValue*sdValue\n",
        "  x=np.linspace(-10,10,100)\n",
        "  y= np.exp(-np.square(x-meanValue)/2*variance)/(np.sqrt(2*np.pi*variance))#calculating values for PDF\n",
        "  return plt.plot(x,y)\n",
        "plotter(4.5,1)\n"
      ],
      "execution_count": 0,
      "outputs": [
        {
          "output_type": "execute_result",
          "data": {
            "text/plain": [
              "[<matplotlib.lines.Line2D at 0x7fca7717a630>]"
            ]
          },
          "metadata": {
            "tags": []
          },
          "execution_count": 9
        },
        {
          "output_type": "display_data",
          "data": {
            "image/png": "[encoded data removed]",
            "text/plain": [
              "<Figure size 432x288 with 1 Axes>"
            ]
          },
          "metadata": {
            "tags": []
          }
        }
      ]
    },
    {
      "cell_type": "markdown",
      "metadata": {
        "id": "haFIocxtglhx",
        "colab_type": "text"
      },
      "source": [
        "DARY!!!\n",
        "\n",
        "![alt text](https://i.kym-cdn.com/photos/images/original/000/903/439/52a.jpg)"
      ]
    },
    {
      "cell_type": "code",
      "metadata": {
        "id": "p9x7LVMBgs43",
        "colab_type": "code",
        "colab": {}
      },
      "source": [
        ""
      ],
      "execution_count": 0,
      "outputs": []
    }
  ]
}